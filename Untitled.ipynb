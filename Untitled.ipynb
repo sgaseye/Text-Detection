{
 "cells": [
  {
   "cell_type": "code",
   "execution_count": 1,
   "metadata": {},
   "outputs": [
    {
     "name": "stdout",
     "output_type": "stream",
     "text": [
      "a Members\n",
      "\n",
      "Member name Value Description\n",
      "orm resseract.oniy 0 Run Tesseract only - fastest\n",
      "\n",
      "orm cuse onty 1 Run Cube only - better accuracy, but slower\n",
      "\n",
      "orm resseract.cuse.coneinen | 2 Run both and combine results - best accuracy\n",
      "\n",
      "orm perautr 3 Specify this mode when calling int '0, to indicate that any of the above modes should be automatically inferred from the variables in the language-specific config,\n",
      "\n",
      "command ine configs, or if not specified in any of the above should be set to the default OEM TESSERACT_ ONLY.\n"
     ]
    },
    {
     "data": {
      "text/plain": [
       "48"
      ]
     },
     "execution_count": 1,
     "metadata": {},
     "output_type": "execute_result"
    }
   ],
   "source": [
    "import cv2\n",
    "import pytesseract\n",
    "import numpy as np\n",
    "#from PIL import ImageGrab\n",
    "import time\n",
    "\n",
    "\n",
    "pytesseract.pytesseract.tesseract_cmd = 'C:\\\\Program Files (x86)\\\\Tesseract-OCR\\\\tesseract.exe'\n",
    "img = cv2.imread('oem.png')\n",
    "img = cv2.cvtColor(img, cv2.COLOR_BGR2RGB)\n",
    "#print(pytesseract.image_to_string(img))\n",
    "#cv2.imshow('Result',img)\n",
    "#cv2.waitKey(0)\n"
   ]
  },
  {
   "cell_type": "code",
   "execution_count": null,
   "metadata": {},
   "outputs": [],
   "source": []
  },
  {
   "cell_type": "code",
   "execution_count": null,
   "metadata": {},
   "outputs": [],
   "source": []
  }
 ],
 "metadata": {
  "kernelspec": {
   "display_name": "Python 3",
   "language": "python",
   "name": "python3"
  },
  "language_info": {
   "codemirror_mode": {
    "name": "ipython",
    "version": 3
   },
   "file_extension": ".py",
   "mimetype": "text/x-python",
   "name": "python",
   "nbconvert_exporter": "python",
   "pygments_lexer": "ipython3",
   "version": "3.7.5"
  }
 },
 "nbformat": 4,
 "nbformat_minor": 4
}
